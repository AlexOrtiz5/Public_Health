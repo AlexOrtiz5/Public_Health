{
 "cells": [
  {
   "cell_type": "code",
   "execution_count": 1,
   "id": "7c682f9e",
   "metadata": {},
   "outputs": [],
   "source": [
    "import pandas as pd\n",
    "import numpy as np\n",
    "from sklearn.model_selection import train_test_split\n",
    "from sklearn.preprocessing import StandardScaler, PolynomialFeatures\n",
    "from sklearn.linear_model import LogisticRegression\n",
    "from sklearn.ensemble import RandomForestClassifier, VotingClassifier, StackingClassifier\n",
    "from sklearn.neighbors import KNeighborsClassifier # Another diverse base model\n",
    "from sklearn.tree import DecisionTreeClassifier # Another base model\n",
    "from sklearn.metrics import accuracy_score, precision_score, recall_score, f1_score, roc_auc_score, confusion_matrix, classification_report\n",
    "import matplotlib.pyplot as plt\n",
    "import seaborn as sns"
   ]
  },
  {
   "cell_type": "markdown",
   "id": "d9e921a1",
   "metadata": {},
   "source": [
    "# --- 1. Load the Dataset ---"
   ]
  },
  {
   "cell_type": "code",
   "execution_count": 2,
   "id": "dbb51257",
   "metadata": {},
   "outputs": [
    {
     "data": {
      "text/html": [
       "<div>\n",
       "<style scoped>\n",
       "    .dataframe tbody tr th:only-of-type {\n",
       "        vertical-align: middle;\n",
       "    }\n",
       "\n",
       "    .dataframe tbody tr th {\n",
       "        vertical-align: top;\n",
       "    }\n",
       "\n",
       "    .dataframe thead th {\n",
       "        text-align: right;\n",
       "    }\n",
       "</style>\n",
       "<table border=\"1\" class=\"dataframe\">\n",
       "  <thead>\n",
       "    <tr style=\"text-align: right;\">\n",
       "      <th></th>\n",
       "      <th>age</th>\n",
       "      <th>sex</th>\n",
       "      <th>trestbps</th>\n",
       "      <th>chol</th>\n",
       "      <th>fbs</th>\n",
       "      <th>restecg</th>\n",
       "      <th>thalach</th>\n",
       "      <th>exang</th>\n",
       "      <th>oldpeak</th>\n",
       "      <th>slope</th>\n",
       "      <th>ca</th>\n",
       "      <th>thal</th>\n",
       "      <th>target</th>\n",
       "      <th>cp_0</th>\n",
       "      <th>cp_1</th>\n",
       "      <th>cp_2</th>\n",
       "      <th>cp_3</th>\n",
       "    </tr>\n",
       "  </thead>\n",
       "  <tbody>\n",
       "    <tr>\n",
       "      <th>0</th>\n",
       "      <td>52</td>\n",
       "      <td>1</td>\n",
       "      <td>125</td>\n",
       "      <td>212</td>\n",
       "      <td>0</td>\n",
       "      <td>1</td>\n",
       "      <td>168</td>\n",
       "      <td>0</td>\n",
       "      <td>1.0</td>\n",
       "      <td>2</td>\n",
       "      <td>2</td>\n",
       "      <td>3</td>\n",
       "      <td>0</td>\n",
       "      <td>1</td>\n",
       "      <td>0</td>\n",
       "      <td>0</td>\n",
       "      <td>0</td>\n",
       "    </tr>\n",
       "    <tr>\n",
       "      <th>1</th>\n",
       "      <td>53</td>\n",
       "      <td>1</td>\n",
       "      <td>140</td>\n",
       "      <td>203</td>\n",
       "      <td>1</td>\n",
       "      <td>0</td>\n",
       "      <td>155</td>\n",
       "      <td>1</td>\n",
       "      <td>3.1</td>\n",
       "      <td>0</td>\n",
       "      <td>0</td>\n",
       "      <td>3</td>\n",
       "      <td>0</td>\n",
       "      <td>1</td>\n",
       "      <td>0</td>\n",
       "      <td>0</td>\n",
       "      <td>0</td>\n",
       "    </tr>\n",
       "    <tr>\n",
       "      <th>2</th>\n",
       "      <td>70</td>\n",
       "      <td>1</td>\n",
       "      <td>145</td>\n",
       "      <td>174</td>\n",
       "      <td>0</td>\n",
       "      <td>1</td>\n",
       "      <td>125</td>\n",
       "      <td>1</td>\n",
       "      <td>2.6</td>\n",
       "      <td>0</td>\n",
       "      <td>0</td>\n",
       "      <td>3</td>\n",
       "      <td>0</td>\n",
       "      <td>1</td>\n",
       "      <td>0</td>\n",
       "      <td>0</td>\n",
       "      <td>0</td>\n",
       "    </tr>\n",
       "    <tr>\n",
       "      <th>3</th>\n",
       "      <td>61</td>\n",
       "      <td>1</td>\n",
       "      <td>148</td>\n",
       "      <td>203</td>\n",
       "      <td>0</td>\n",
       "      <td>1</td>\n",
       "      <td>161</td>\n",
       "      <td>0</td>\n",
       "      <td>0.0</td>\n",
       "      <td>2</td>\n",
       "      <td>1</td>\n",
       "      <td>3</td>\n",
       "      <td>0</td>\n",
       "      <td>1</td>\n",
       "      <td>0</td>\n",
       "      <td>0</td>\n",
       "      <td>0</td>\n",
       "    </tr>\n",
       "    <tr>\n",
       "      <th>4</th>\n",
       "      <td>62</td>\n",
       "      <td>0</td>\n",
       "      <td>138</td>\n",
       "      <td>294</td>\n",
       "      <td>1</td>\n",
       "      <td>1</td>\n",
       "      <td>106</td>\n",
       "      <td>0</td>\n",
       "      <td>1.9</td>\n",
       "      <td>1</td>\n",
       "      <td>3</td>\n",
       "      <td>2</td>\n",
       "      <td>0</td>\n",
       "      <td>1</td>\n",
       "      <td>0</td>\n",
       "      <td>0</td>\n",
       "      <td>0</td>\n",
       "    </tr>\n",
       "    <tr>\n",
       "      <th>...</th>\n",
       "      <td>...</td>\n",
       "      <td>...</td>\n",
       "      <td>...</td>\n",
       "      <td>...</td>\n",
       "      <td>...</td>\n",
       "      <td>...</td>\n",
       "      <td>...</td>\n",
       "      <td>...</td>\n",
       "      <td>...</td>\n",
       "      <td>...</td>\n",
       "      <td>...</td>\n",
       "      <td>...</td>\n",
       "      <td>...</td>\n",
       "      <td>...</td>\n",
       "      <td>...</td>\n",
       "      <td>...</td>\n",
       "      <td>...</td>\n",
       "    </tr>\n",
       "    <tr>\n",
       "      <th>297</th>\n",
       "      <td>68</td>\n",
       "      <td>0</td>\n",
       "      <td>120</td>\n",
       "      <td>211</td>\n",
       "      <td>0</td>\n",
       "      <td>0</td>\n",
       "      <td>115</td>\n",
       "      <td>0</td>\n",
       "      <td>1.5</td>\n",
       "      <td>1</td>\n",
       "      <td>0</td>\n",
       "      <td>2</td>\n",
       "      <td>1</td>\n",
       "      <td>0</td>\n",
       "      <td>0</td>\n",
       "      <td>1</td>\n",
       "      <td>0</td>\n",
       "    </tr>\n",
       "    <tr>\n",
       "      <th>298</th>\n",
       "      <td>44</td>\n",
       "      <td>0</td>\n",
       "      <td>108</td>\n",
       "      <td>141</td>\n",
       "      <td>0</td>\n",
       "      <td>1</td>\n",
       "      <td>175</td>\n",
       "      <td>0</td>\n",
       "      <td>0.6</td>\n",
       "      <td>1</td>\n",
       "      <td>0</td>\n",
       "      <td>2</td>\n",
       "      <td>1</td>\n",
       "      <td>0</td>\n",
       "      <td>0</td>\n",
       "      <td>1</td>\n",
       "      <td>0</td>\n",
       "    </tr>\n",
       "    <tr>\n",
       "      <th>299</th>\n",
       "      <td>52</td>\n",
       "      <td>1</td>\n",
       "      <td>128</td>\n",
       "      <td>255</td>\n",
       "      <td>0</td>\n",
       "      <td>1</td>\n",
       "      <td>161</td>\n",
       "      <td>1</td>\n",
       "      <td>0.0</td>\n",
       "      <td>2</td>\n",
       "      <td>1</td>\n",
       "      <td>3</td>\n",
       "      <td>0</td>\n",
       "      <td>1</td>\n",
       "      <td>0</td>\n",
       "      <td>0</td>\n",
       "      <td>0</td>\n",
       "    </tr>\n",
       "    <tr>\n",
       "      <th>300</th>\n",
       "      <td>59</td>\n",
       "      <td>1</td>\n",
       "      <td>160</td>\n",
       "      <td>273</td>\n",
       "      <td>0</td>\n",
       "      <td>0</td>\n",
       "      <td>125</td>\n",
       "      <td>0</td>\n",
       "      <td>0.0</td>\n",
       "      <td>2</td>\n",
       "      <td>0</td>\n",
       "      <td>2</td>\n",
       "      <td>0</td>\n",
       "      <td>0</td>\n",
       "      <td>0</td>\n",
       "      <td>0</td>\n",
       "      <td>1</td>\n",
       "    </tr>\n",
       "    <tr>\n",
       "      <th>301</th>\n",
       "      <td>54</td>\n",
       "      <td>1</td>\n",
       "      <td>120</td>\n",
       "      <td>188</td>\n",
       "      <td>0</td>\n",
       "      <td>1</td>\n",
       "      <td>113</td>\n",
       "      <td>0</td>\n",
       "      <td>1.4</td>\n",
       "      <td>1</td>\n",
       "      <td>1</td>\n",
       "      <td>3</td>\n",
       "      <td>0</td>\n",
       "      <td>1</td>\n",
       "      <td>0</td>\n",
       "      <td>0</td>\n",
       "      <td>0</td>\n",
       "    </tr>\n",
       "  </tbody>\n",
       "</table>\n",
       "<p>302 rows × 17 columns</p>\n",
       "</div>"
      ],
      "text/plain": [
       "     age  sex  trestbps  chol  fbs  restecg  thalach  exang  oldpeak  slope  \\\n",
       "0     52    1       125   212    0        1      168      0      1.0      2   \n",
       "1     53    1       140   203    1        0      155      1      3.1      0   \n",
       "2     70    1       145   174    0        1      125      1      2.6      0   \n",
       "3     61    1       148   203    0        1      161      0      0.0      2   \n",
       "4     62    0       138   294    1        1      106      0      1.9      1   \n",
       "..   ...  ...       ...   ...  ...      ...      ...    ...      ...    ...   \n",
       "297   68    0       120   211    0        0      115      0      1.5      1   \n",
       "298   44    0       108   141    0        1      175      0      0.6      1   \n",
       "299   52    1       128   255    0        1      161      1      0.0      2   \n",
       "300   59    1       160   273    0        0      125      0      0.0      2   \n",
       "301   54    1       120   188    0        1      113      0      1.4      1   \n",
       "\n",
       "     ca  thal  target  cp_0  cp_1  cp_2  cp_3  \n",
       "0     2     3       0     1     0     0     0  \n",
       "1     0     3       0     1     0     0     0  \n",
       "2     0     3       0     1     0     0     0  \n",
       "3     1     3       0     1     0     0     0  \n",
       "4     3     2       0     1     0     0     0  \n",
       "..   ..   ...     ...   ...   ...   ...   ...  \n",
       "297   0     2       1     0     0     1     0  \n",
       "298   0     2       1     0     0     1     0  \n",
       "299   1     3       0     1     0     0     0  \n",
       "300   0     2       0     0     0     0     1  \n",
       "301   1     3       0     1     0     0     0  \n",
       "\n",
       "[302 rows x 17 columns]"
      ]
     },
     "execution_count": 2,
     "metadata": {},
     "output_type": "execute_result"
    }
   ],
   "source": [
    "# Read the data that is inside of the CSV\n",
    "df = pd.read_csv(\"./Health_Data/cleaned_health.csv\")\n",
    "df"
   ]
  },
  {
   "cell_type": "code",
   "execution_count": 3,
   "id": "c920da95",
   "metadata": {},
   "outputs": [],
   "source": [
    "# Define original features and target columns\n",
    "ORIGINAL_FEATURES = [\n",
    "    'age', 'sex', 'trestbps', 'chol', 'fbs', 'restecg', 'thalach',\n",
    "    'exang', 'oldpeak', 'slope', 'ca', 'thal',\n",
    "    'cp_0', 'cp_1', 'cp_2', 'cp_3'\n",
    "]\n",
    "TARGET_COL = 'target' # The column indicating disease presence (0 or 1)\n",
    "\n",
    "# Define numerical columns for imputation and potential engineering\n",
    "NUMERICAL_COLS_FOR_PROCESSING = ['age', 'trestbps', 'chol', 'thalach', 'oldpeak']"
   ]
  },
  {
   "cell_type": "markdown",
   "id": "ee9ea502",
   "metadata": {},
   "source": [
    "# --- 2. Data Preprocessing (Ensuring Cleanliness and Correct Types) ---"
   ]
  },
  {
   "cell_type": "code",
   "execution_count": 4,
   "id": "8d062249",
   "metadata": {},
   "outputs": [
    {
     "name": "stdout",
     "output_type": "stream",
     "text": [
      "\n",
      "--- Data Preprocessing for Ensembling ---\n",
      "Missing values before imputation:\n",
      "Series([], dtype: int64)\n",
      "\n",
      "Missing values after imputation:\n",
      "age         0\n",
      "sex         0\n",
      "trestbps    0\n",
      "chol        0\n",
      "fbs         0\n",
      "restecg     0\n",
      "thalach     0\n",
      "exang       0\n",
      "oldpeak     0\n",
      "slope       0\n",
      "ca          0\n",
      "thal        0\n",
      "cp_0        0\n",
      "cp_1        0\n",
      "cp_2        0\n",
      "cp_3        0\n",
      "target      0\n",
      "dtype: int64\n"
     ]
    }
   ],
   "source": [
    "print(\"\\n--- Data Preprocessing for Ensembling ---\")\n",
    "\n",
    "# Handle '?' or other non-numeric values if they exist, converting to NaN first\n",
    "df.replace('?', np.nan, inplace=True)\n",
    "df.replace('N/A', np.nan, inplace=True)\n",
    "\n",
    "# Convert all relevant columns to numeric, coercing errors\n",
    "all_relevant_cols_initial = ORIGINAL_FEATURES + [TARGET_COL]\n",
    "for col in all_relevant_cols_initial:\n",
    "    if col in df.columns:\n",
    "        if col in NUMERICAL_COLS_FOR_PROCESSING:\n",
    "            df[col] = pd.to_numeric(df[col], errors='coerce')\n",
    "        else: # Categorical/binary features including target\n",
    "            df[col] = pd.to_numeric(df[col], errors='coerce').astype('Int64') # Use nullable integer\n",
    "\n",
    "# Impute missing values after type conversion\n",
    "print(\"Missing values before imputation:\")\n",
    "print(df[all_relevant_cols_initial].isnull().sum()[df[all_relevant_cols_initial].isnull().sum() > 0])\n",
    "\n",
    "for col in all_relevant_cols_initial:\n",
    "    if col in df.columns and df[col].isnull().any():\n",
    "        if col in NUMERICAL_COLS_FOR_PROCESSING:\n",
    "            median_val = df[col].median()\n",
    "            df[col].fillna(median_val, inplace=True)\n",
    "            print(f\"Filled missing values in '{col}' with its median ({median_val}).\")\n",
    "        else: # Categorical/binary features including target\n",
    "            mode_val = df[col].mode()[0]\n",
    "            df[col].fillna(mode_val, inplace=True)\n",
    "            print(f\"Filled missing values in '{col}' with its mode ({mode_val}).\")\n",
    "\n",
    "print(\"\\nMissing values after imputation:\")\n",
    "print(df[all_relevant_cols_initial].isnull().sum())"
   ]
  },
  {
   "cell_type": "markdown",
   "id": "cd3181c8",
   "metadata": {},
   "source": [
    "# --- 3. Advanced Feature Engineering (Re-applying from previous step) ---"
   ]
  },
  {
   "cell_type": "code",
   "execution_count": 5,
   "id": "93569fa8",
   "metadata": {},
   "outputs": [
    {
     "name": "stdout",
     "output_type": "stream",
     "text": [
      "\n",
      "--- Re-applying Advanced Feature Engineering ---\n"
     ]
    }
   ],
   "source": [
    "print(\"\\n--- Re-applying Advanced Feature Engineering ---\")\n",
    "\n",
    "# Create a copy of the DataFrame to add new features\n",
    "df_engineered = df.copy()"
   ]
  },
  {
   "cell_type": "markdown",
   "id": "43992c6d",
   "metadata": {},
   "source": [
    "# 3.1. Polynomial Features"
   ]
  },
  {
   "cell_type": "code",
   "execution_count": 6,
   "id": "e43c7d99",
   "metadata": {},
   "outputs": [
    {
     "name": "stdout",
     "output_type": "stream",
     "text": [
      "Added polynomial features for: ['age', 'trestbps', 'chol']\n"
     ]
    }
   ],
   "source": [
    "poly = PolynomialFeatures(degree=2, include_bias=False)\n",
    "cols_for_poly = ['age', 'trestbps', 'chol']\n",
    "actual_cols_for_poly = [col for col in cols_for_poly if col in df_engineered.columns]\n",
    "\n",
    "if actual_cols_for_poly:\n",
    "    poly_features = poly.fit_transform(df_engineered[actual_cols_for_poly])\n",
    "    poly_feature_names = poly.get_feature_names_out(actual_cols_for_poly)\n",
    "    poly_df = pd.DataFrame(poly_features, columns=poly_feature_names, index=df_engineered.index)\n",
    "\n",
    "    # Drop original columns from poly_df to avoid duplication\n",
    "    cols_to_drop_from_poly_df = [col for col in actual_cols_for_poly if col in poly_df.columns]\n",
    "    poly_df = poly_df.drop(columns=cols_to_drop_from_poly_df, errors='ignore')\n",
    "\n",
    "    df_engineered = pd.concat([df_engineered, poly_df], axis=1)\n",
    "    print(f\"Added polynomial features for: {actual_cols_for_poly}\")\n",
    "else:\n",
    "    print(\"Skipping polynomial features: None of the specified columns found.\")"
   ]
  },
  {
   "cell_type": "markdown",
   "id": "231b47c7",
   "metadata": {},
   "source": [
    "# 3.2. Interaction Features (Manual)"
   ]
  },
  {
   "cell_type": "code",
   "execution_count": 7,
   "id": "a8d43971",
   "metadata": {},
   "outputs": [
    {
     "name": "stdout",
     "output_type": "stream",
     "text": [
      "Added interaction feature: 'age_x_chol'\n",
      "Added interaction feature: 'thalach_x_exang'\n"
     ]
    }
   ],
   "source": [
    "if 'age' in df_engineered.columns and 'chol' in df_engineered.columns:\n",
    "    df_engineered['age_x_chol'] = (df_engineered['age'] * df_engineered['chol']).squeeze()\n",
    "    print(\"Added interaction feature: 'age_x_chol'\")\n",
    "if 'thalach' in df_engineered.columns and 'exang' in df_engineered.columns:\n",
    "    df_engineered['thalach_x_exang'] = (df_engineered['thalach'] * df_engineered['exang']).squeeze()\n",
    "    print(\"Added interaction feature: 'thalach_x_exang'\")"
   ]
  },
  {
   "cell_type": "markdown",
   "id": "9c74ccb7",
   "metadata": {},
   "source": [
    "# 3.3. Binning / Discretization"
   ]
  },
  {
   "cell_type": "code",
   "execution_count": 8,
   "id": "a3669ad0",
   "metadata": {},
   "outputs": [
    {
     "name": "stdout",
     "output_type": "stream",
     "text": [
      "Added binned feature: 'age_group'\n"
     ]
    }
   ],
   "source": [
    "if 'age' in df_engineered.columns:\n",
    "    age_bins = [0, 40, 50, 60, 70, df_engineered['age'].max() + 1]\n",
    "    age_labels = ['<40', '40-49', '50-59', '60-69', '70+']\n",
    "    df_engineered['age_group'] = pd.cut(df_engineered['age'], bins=age_bins, labels=age_labels, right=False)\n",
    "    # Convert 'age_group' to numerical for modeling if needed, e.g., using LabelEncoder or one-hot encoding\n",
    "    # For now, we'll keep it as categorical and handle it in feature selection for X\n",
    "    print(\"Added binned feature: 'age_group'\")"
   ]
  },
  {
   "cell_type": "markdown",
   "id": "fbbfc307",
   "metadata": {},
   "source": [
    "# 3.4. Ratio Features"
   ]
  },
  {
   "cell_type": "code",
   "execution_count": 9,
   "id": "2803bc29",
   "metadata": {},
   "outputs": [
    {
     "name": "stdout",
     "output_type": "stream",
     "text": [
      "Added ratio feature: 'chol_to_trestbps_ratio'\n"
     ]
    }
   ],
   "source": [
    "if 'chol' in df_engineered.columns and 'trestbps' in df_engineered.columns:\n",
    "    df_engineered['chol_to_trestbps_ratio'] = np.where(\n",
    "        df_engineered['trestbps'] != 0,\n",
    "        df_engineered['chol'] / df_engineered['trestbps'],\n",
    "        0\n",
    "    ).squeeze()\n",
    "    print(\"Added ratio feature: 'chol_to_trestbps_ratio'\")"
   ]
  },
  {
   "cell_type": "markdown",
   "id": "90a20a01",
   "metadata": {},
   "source": [
    "# 3.5. Combining One-Hot Encoded 'cp' into a single 'cp_type' categorical feature"
   ]
  },
  {
   "cell_type": "code",
   "execution_count": 10,
   "id": "1e922426",
   "metadata": {},
   "outputs": [
    {
     "name": "stdout",
     "output_type": "stream",
     "text": [
      "Combined one-hot encoded 'cp' into 'cp_type' categorical feature.\n",
      "\n",
      "Final Features (X) shape: (302, 27)\n",
      "Target (y) shape: (302,)\n",
      "Target distribution:\n",
      "1    0.54\n",
      "0    0.46\n",
      "Name: target, dtype: Float64\n",
      "\n",
      "Final features used for modeling:\n",
      "['age', 'sex', 'trestbps', 'chol', 'fbs', 'restecg', 'thalach', 'exang', 'oldpeak', 'slope', 'ca', 'thal', 'age_group_<40', 'age_group_40-49', 'age_group_50-59', 'age_group_60-69', 'age_group_70+', 'age^2', 'age trestbps', 'age chol', 'trestbps^2', 'trestbps chol', 'chol^2', 'age_x_chol', 'thalach_x_exang', 'chol_to_trestbps_ratio', 'cp_type']\n"
     ]
    }
   ],
   "source": [
    "cp_cols = ['cp_0', 'cp_1', 'cp_2', 'cp_3']\n",
    "actual_cp_cols = [col for col in cp_cols if col in df_engineered.columns]\n",
    "if len(actual_cp_cols) == 4:\n",
    "    df_engineered['cp_type'] = df_engineered[actual_cp_cols].idxmax(axis=1)\n",
    "    df_engineered['cp_type'] = df_engineered['cp_type'].str.replace('cp_', '').astype(int)\n",
    "    print(\"Combined one-hot encoded 'cp' into 'cp_type' categorical feature.\")\n",
    "else:\n",
    "    print(\"Skipping 'cp_type' combination: Not all one-hot encoded 'cp' columns found.\")\n",
    "\n",
    "# Update FEATURES list to include new engineered features for modeling\n",
    "# Ensure these new features are handled correctly (e.g., age_group will need encoding)\n",
    "ENGINEERED_FEATURES = [\n",
    "    col for col in df_engineered.columns\n",
    "    if col not in df.columns and col != TARGET_COL # Exclude target and original columns\n",
    "]\n",
    "# For 'age_group', we need to convert it to numerical. Let's one-hot encode it for simplicity.\n",
    "if 'age_group' in df_engineered.columns:\n",
    "    df_engineered = pd.get_dummies(df_engineered, columns=['age_group'], prefix='age_group')\n",
    "    # Update ENGINEERED_FEATURES to include the new one-hot encoded age_group columns\n",
    "    ENGINEERED_FEATURES = [col for col in df_engineered.columns if col.startswith('age_group_')] + \\\n",
    "                          [f for f in ENGINEERED_FEATURES if not f.startswith('age_group')]\n",
    "\n",
    "# Final list of features for X\n",
    "FINAL_FEATURES = [col for col in ORIGINAL_FEATURES if col in df_engineered.columns] + ENGINEERED_FEATURES\n",
    "# Remove original cp_0, cp_1, cp_2, cp_3 if cp_type is used\n",
    "if 'cp_type' in FINAL_FEATURES:\n",
    "    FINAL_FEATURES = [f for f in FINAL_FEATURES if f not in cp_cols]\n",
    "\n",
    "# Separate features (X) and target (y)\n",
    "X = df_engineered[FINAL_FEATURES]\n",
    "y = df_engineered[TARGET_COL]\n",
    "\n",
    "# Check if target variable has only two unique values (binary classification)\n",
    "if y.nunique() != 2:\n",
    "    print(f\"Error: The target column '{TARGET_COL}' is not binary. It has {y.nunique()} unique values: {y.unique()}\")\n",
    "    print(\"Please ensure your 'target' column is binary (e.g., 0 and 1) for classification.\")\n",
    "    exit()\n",
    "\n",
    "print(f\"\\nFinal Features (X) shape: {X.shape}\")\n",
    "print(f\"Target (y) shape: {y.shape}\")\n",
    "print(f\"Target distribution:\\n{y.value_counts(normalize=True).round(2)}\")\n",
    "print(\"\\nFinal features used for modeling:\")\n",
    "print(X.columns.tolist())"
   ]
  },
  {
   "cell_type": "markdown",
   "id": "7f57b398",
   "metadata": {},
   "source": [
    "# --- 4. Split Data into Training and Testing Sets ---"
   ]
  },
  {
   "cell_type": "code",
   "execution_count": 11,
   "id": "f0c8012c",
   "metadata": {},
   "outputs": [
    {
     "name": "stdout",
     "output_type": "stream",
     "text": [
      "\n",
      "Training set shape: (226, 27), (226,)\n",
      "Testing set shape: (76, 27), (76,)\n"
     ]
    }
   ],
   "source": [
    "X_train, X_test, y_train, y_test = train_test_split(\n",
    "    X, y, test_size=0.25, random_state=42, stratify=y\n",
    ")\n",
    "print(f\"\\nTraining set shape: {X_train.shape}, {y_train.shape}\")\n",
    "print(f\"Testing set shape: {X_test.shape}, {y_test.shape}\")"
   ]
  },
  {
   "cell_type": "markdown",
   "id": "1624181a",
   "metadata": {},
   "source": [
    "# --- 5. Feature Scaling (for numerical features) ---"
   ]
  },
  {
   "cell_type": "code",
   "execution_count": 12,
   "id": "35d21368",
   "metadata": {},
   "outputs": [
    {
     "name": "stdout",
     "output_type": "stream",
     "text": [
      "Scaled numerical features: ['age', 'trestbps', 'chol', 'thalach', 'oldpeak', 'age_x_chol', 'thalach_x_exang', 'chol_to_trestbps_ratio']\n",
      "\n",
      "First 5 rows of scaled training features:\n",
      "         age  sex  trestbps      chol  fbs  restecg   thalach  exang  \\\n",
      "18  0.410557    1  0.515901 -0.676764    1        0  0.611286      0   \n",
      "90 -0.246722    1 -0.804933 -1.153240    0        0  1.717907      0   \n",
      "75 -1.123095    1 -0.684857 -0.505233    0        1  0.832610      0   \n",
      "8  -0.904002    1 -0.684857  0.047479    0        0 -0.318276      0   \n",
      "28  0.081918    0  2.917417  1.534084    0        2 -1.513427      1   \n",
      "\n",
      "     oldpeak  slope  ...   age^2  age trestbps  age chol  trestbps^2  \\\n",
      "18 -0.851400      2  ...  3364.0        8120.0   12238.0     19600.0   \n",
      "90 -0.851400      1  ...  2704.0        6136.0    9672.0     13924.0   \n",
      "75 -0.851400      2  ...  1936.0        5280.0    9680.0     14400.0   \n",
      "8  -0.149150      2  ...  2116.0        5520.0   11454.0     14400.0   \n",
      "28  2.133161      1  ...  3025.0        9900.0   17985.0     32400.0   \n",
      "\n",
      "    trestbps chol    chol^2  age_x_chol  thalach_x_exang  \\\n",
      "18        29540.0   44521.0   -0.303681        -0.645492   \n",
      "90        21948.0   34596.0   -0.930562        -0.645492   \n",
      "75        26400.0   48400.0   -0.928607        -0.645492   \n",
      "8         29880.0   62001.0   -0.495214        -0.645492   \n",
      "28        58860.0  106929.0    1.100326         1.170649   \n",
      "\n",
      "    chol_to_trestbps_ratio  cp_type  \n",
      "18               -0.872699        2  \n",
      "90               -0.718465        3  \n",
      "75               -0.144926        1  \n",
      "8                 0.394263        0  \n",
      "28               -0.182112        0  \n",
      "\n",
      "[5 rows x 27 columns]\n"
     ]
    }
   ],
   "source": [
    "scaler = StandardScaler()\n",
    "# Identify numerical features from the FINAL_FEATURES list that need scaling\n",
    "# These are the original numerical columns plus any new numerical interaction/ratio features\n",
    "numerical_features_to_scale = [col for col in NUMERICAL_COLS_FOR_PROCESSING if col in X_train.columns] + \\\n",
    "                              ['age_x_chol', 'thalach_x_exang', 'chol_to_trestbps_ratio']\n",
    "numerical_features_to_scale = [f for f in numerical_features_to_scale if f in X_train.columns]\n",
    "\n",
    "if numerical_features_to_scale:\n",
    "    X_train_scaled = X_train.copy()\n",
    "    X_test_scaled = X_test.copy()\n",
    "    X_train_scaled[numerical_features_to_scale] = scaler.fit_transform(X_train[numerical_features_to_scale])\n",
    "    X_test_scaled[numerical_features_to_scale] = scaler.transform(X_test[numerical_features_to_scale])\n",
    "    print(f\"Scaled numerical features: {numerical_features_to_scale}\")\n",
    "else:\n",
    "    print(\"No numerical features found for scaling. Using original X_train/X_test.\")\n",
    "    X_train_scaled = X_train\n",
    "    X_test_scaled = X_test\n",
    "\n",
    "print(\"\\nFirst 5 rows of scaled training features:\")\n",
    "print(X_train_scaled.head())"
   ]
  },
  {
   "cell_type": "markdown",
   "id": "54d2242d",
   "metadata": {},
   "source": [
    "# --- 6. Model Ensembling ---"
   ]
  },
  {
   "cell_type": "markdown",
   "id": "130fd743",
   "metadata": {},
   "source": [
    "# --- 6.1. Define Base Estimators ---"
   ]
  },
  {
   "cell_type": "code",
   "execution_count": 13,
   "id": "72ef4e87",
   "metadata": {},
   "outputs": [
    {
     "name": "stdout",
     "output_type": "stream",
     "text": [
      "\n",
      "--- Defining Base Estimators for Ensembling ---\n"
     ]
    }
   ],
   "source": [
    "print(\"\\n--- Defining Base Estimators for Ensembling ---\")\n",
    "# Use diverse models for better ensemble performance\n",
    "clf1 = LogisticRegression(random_state=42, solver='liblinear', C=0.1) # Example best C from tuning\n",
    "clf2 = RandomForestClassifier(random_state=42, n_estimators=100, max_depth=10, class_weight='balanced') # Example best params\n",
    "clf3 = KNeighborsClassifier(n_neighbors=5) # K-Nearest Neighbors\n",
    "clf4 = DecisionTreeClassifier(random_state=42, max_depth=5) # Decision Tree\n",
    "\n",
    "estimators = [\n",
    "    ('lr', clf1),\n",
    "    ('rf', clf2),\n",
    "    ('knn', clf3),\n",
    "    ('dt', clf4)\n",
    "]"
   ]
  },
  {
   "cell_type": "markdown",
   "id": "5aab27ab",
   "metadata": {},
   "source": [
    "# --- 6.2. Voting Classifier ---"
   ]
  },
  {
   "cell_type": "code",
   "execution_count": 14,
   "id": "728bbc3e",
   "metadata": {},
   "outputs": [
    {
     "name": "stdout",
     "output_type": "stream",
     "text": [
      "\n",
      "--- Training and Evaluating Voting Classifier ---\n",
      "\n",
      "Voting Classifier Performance:\n",
      "Accuracy: 0.8289\n",
      "Precision: 0.8333\n",
      "Recall: 0.8537\n",
      "F1-Score: 0.8434\n",
      "ROC AUC Score: 0.8732\n",
      "\n",
      "Confusion Matrix (Voting Classifier):\n",
      "[[28  7]\n",
      " [ 6 35]]\n",
      "\n",
      "Classification Report (Voting Classifier):\n",
      "              precision    recall  f1-score   support\n",
      "\n",
      "         0.0       0.82      0.80      0.81        35\n",
      "         1.0       0.83      0.85      0.84        41\n",
      "\n",
      "    accuracy                           0.83        76\n",
      "   macro avg       0.83      0.83      0.83        76\n",
      "weighted avg       0.83      0.83      0.83        76\n",
      "\n"
     ]
    }
   ],
   "source": [
    "print(\"\\n--- Training and Evaluating Voting Classifier ---\")\n",
    "# 'soft' voting uses predicted probabilities, which is generally better if models are well-calibrated\n",
    "voting_clf = VotingClassifier(estimators=estimators, voting='soft', weights=[0.25, 0.4, 0.15, 0.2]) # Assign weights (sum to 1)\n",
    "voting_clf.fit(X_train_scaled, y_train)\n",
    "y_pred_vote = voting_clf.predict(X_test_scaled)\n",
    "y_proba_vote = voting_clf.predict_proba(X_test_scaled)[:, 1]\n",
    "\n",
    "print(\"\\nVoting Classifier Performance:\")\n",
    "print(f\"Accuracy: {accuracy_score(y_test, y_pred_vote):.4f}\")\n",
    "print(f\"Precision: {precision_score(y_test, y_pred_vote):.4f}\")\n",
    "print(f\"Recall: {recall_score(y_test, y_pred_vote):.4f}\")\n",
    "print(f\"F1-Score: {f1_score(y_test, y_pred_vote):.4f}\")\n",
    "print(f\"ROC AUC Score: {roc_auc_score(y_test, y_proba_vote):.4f}\")\n",
    "print(\"\\nConfusion Matrix (Voting Classifier):\")\n",
    "print(confusion_matrix(y_test, y_pred_vote))\n",
    "print(\"\\nClassification Report (Voting Classifier):\")\n",
    "print(classification_report(y_test, y_pred_vote))"
   ]
  },
  {
   "cell_type": "markdown",
   "id": "a61eea99",
   "metadata": {},
   "source": [
    "# --- 6.3. Stacking Classifier ---"
   ]
  },
  {
   "cell_type": "code",
   "execution_count": 15,
   "id": "240251fe",
   "metadata": {},
   "outputs": [
    {
     "name": "stdout",
     "output_type": "stream",
     "text": [
      "\n",
      "--- Training and Evaluating Stacking Classifier ---\n",
      "\n",
      "Stacking Classifier Performance:\n",
      "Accuracy: 0.8158\n",
      "Precision: 0.8140\n",
      "Recall: 0.8537\n",
      "F1-Score: 0.8333\n",
      "ROC AUC Score: 0.8418\n",
      "\n",
      "Confusion Matrix (Stacking Classifier):\n",
      "[[27  8]\n",
      " [ 6 35]]\n",
      "\n",
      "Classification Report (Stacking Classifier):\n",
      "              precision    recall  f1-score   support\n",
      "\n",
      "         0.0       0.82      0.77      0.79        35\n",
      "         1.0       0.81      0.85      0.83        41\n",
      "\n",
      "    accuracy                           0.82        76\n",
      "   macro avg       0.82      0.81      0.81        76\n",
      "weighted avg       0.82      0.82      0.82        76\n",
      "\n"
     ]
    }
   ],
   "source": [
    "print(\"\\n--- Training and Evaluating Stacking Classifier ---\")\n",
    "# Base estimators will make predictions, and a final estimator will learn from those predictions\n",
    "# The final estimator can be any classifier, often a simple one like Logistic Regression\n",
    "stacking_clf = StackingClassifier(\n",
    "    estimators=estimators,\n",
    "    final_estimator=LogisticRegression(random_state=42, solver='liblinear'),\n",
    "    cv=5, # Cross-validation for training the final estimator\n",
    "    n_jobs=-1 # Use all available cores\n",
    ")\n",
    "\n",
    "stacking_clf.fit(X_train_scaled, y_train)\n",
    "y_pred_stack = stacking_clf.predict(X_test_scaled)\n",
    "y_proba_stack = stacking_clf.predict_proba(X_test_scaled)[:, 1]\n",
    "\n",
    "print(\"\\nStacking Classifier Performance:\")\n",
    "print(f\"Accuracy: {accuracy_score(y_test, y_pred_stack):.4f}\")\n",
    "print(f\"Precision: {precision_score(y_test, y_pred_stack):.4f}\")\n",
    "print(f\"Recall: {recall_score(y_test, y_pred_stack):.4f}\")\n",
    "print(f\"F1-Score: {f1_score(y_test, y_pred_stack):.4f}\")\n",
    "print(f\"ROC AUC Score: {roc_auc_score(y_test, y_proba_stack):.4f}\")\n",
    "print(\"\\nConfusion Matrix (Stacking Classifier):\")\n",
    "print(confusion_matrix(y_test, y_pred_stack))\n",
    "print(\"\\nClassification Report (Stacking Classifier):\")\n",
    "print(classification_report(y_test, y_pred_stack))"
   ]
  },
  {
   "cell_type": "code",
   "execution_count": 16,
   "id": "db7e1fa2",
   "metadata": {},
   "outputs": [
    {
     "name": "stdout",
     "output_type": "stream",
     "text": [
      "\n",
      "Model ensembling and stacking complete. Performance metrics for ensemble models are displayed.\n"
     ]
    }
   ],
   "source": [
    "print(\"\\nModel ensembling and stacking complete. Performance metrics for ensemble models are displayed.\")"
   ]
  }
 ],
 "metadata": {
  "kernelspec": {
   "display_name": "streamlit_pycaret",
   "language": "python",
   "name": "python3"
  },
  "language_info": {
   "codemirror_mode": {
    "name": "ipython",
    "version": 3
   },
   "file_extension": ".py",
   "mimetype": "text/x-python",
   "name": "python",
   "nbconvert_exporter": "python",
   "pygments_lexer": "ipython3",
   "version": "3.11.7"
  }
 },
 "nbformat": 4,
 "nbformat_minor": 5
}
